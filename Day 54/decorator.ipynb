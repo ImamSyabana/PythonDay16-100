{
 "cells": [
  {
   "cell_type": "code",
   "execution_count": 1,
   "id": "1e60164d",
   "metadata": {},
   "outputs": [
    {
     "name": "stdout",
     "output_type": "stream",
     "text": [
      "5\n"
     ]
    }
   ],
   "source": [
    "#demonstration of python decorator\n",
    "def add(n1, n2):\n",
    "    return n1 + n2\n",
    "\n",
    "def substract(n1, n2):\n",
    "    return n1-n2\n",
    "\n",
    "def multiply(n1, n2):\n",
    "    return n1 * n2\n",
    "\n",
    "def divide(n1, n2):\n",
    "    return n1/n2\n",
    "\n",
    "##Functions are first-class objects, can be passed around as arguments e.g. int/string/float etc.\n",
    "\n",
    "def calculate(calc_function, n1, n2):\n",
    "    return calc_function(n1, n2)\n",
    "\n",
    "result = calculate(add, 2, 3)\n",
    "print(result)"
   ]
  },
  {
   "cell_type": "code",
   "execution_count": 2,
   "id": "d48b351f",
   "metadata": {},
   "outputs": [
    {
     "name": "stdout",
     "output_type": "stream",
     "text": [
      "I'm outer\n",
      "I'm inner\n"
     ]
    }
   ],
   "source": [
    "##Functions can be nested in other functions\n",
    "\n",
    "def outer_function():\n",
    "    print(\"I'm outer\")\n",
    "\n",
    "    def nested_function():\n",
    "        print(\"I'm inner\")\n",
    "\n",
    "    nested_function()\n",
    "\n",
    "outer_function()"
   ]
  },
  {
   "cell_type": "code",
   "execution_count": 3,
   "id": "08382f2b",
   "metadata": {},
   "outputs": [
    {
     "name": "stdout",
     "output_type": "stream",
     "text": [
      "I'm outer\n",
      "<function outer_function.<locals>.nested_function at 0x000002317D137740>\n",
      "I'm inner\n",
      "None\n"
     ]
    }
   ],
   "source": [
    "## Functions can be returned from other functions\n",
    "def outer_function():\n",
    "    print(\"I'm outer\")\n",
    "\n",
    "    def nested_function():\n",
    "        print(\"I'm inner\")\n",
    "\n",
    "    return nested_function\n",
    "\n",
    "inner_function = outer_function()\n",
    "print(inner_function)\n",
    "\n",
    "print(inner_function())"
   ]
  },
  {
   "cell_type": "code",
   "execution_count": 4,
   "id": "cbf4cb78",
   "metadata": {},
   "outputs": [
    {
     "name": "stdout",
     "output_type": "stream",
     "text": [
      "I'm inner\n"
     ]
    }
   ],
   "source": [
    "inner_function()"
   ]
  },
  {
   "cell_type": "code",
   "execution_count": 5,
   "id": "b5edf226",
   "metadata": {},
   "outputs": [],
   "source": [
    "\n",
    "## Simple Python Decorator Functions\n",
    "import time\n",
    "\n",
    "def delay_decorator(function):\n",
    "    def wrapper_function():\n",
    "        time.sleep(2)\n",
    "        #Do something before\n",
    "        function()\n",
    "        function()\n",
    "        #Do something after\n",
    "    return wrapper_function\n",
    "\n",
    "@delay_decorator\n",
    "def say_hello():\n",
    "    print(\"Hello\")\n",
    "\n",
    "#With the @ syntactic sugar\n",
    "@delay_decorator\n",
    "def say_bye():\n",
    "    print(\"Bye\")\n",
    "\n",
    "#Without the @ syntactic sugar\n",
    "def say_greeting():\n",
    "    print(\"How are you?\")\n",
    "    \n",
    "\n"
   ]
  },
  {
   "cell_type": "code",
   "execution_count": 6,
   "id": "943338c6",
   "metadata": {},
   "outputs": [
    {
     "name": "stdout",
     "output_type": "stream",
     "text": [
      "How are you?\n",
      "How are you?\n"
     ]
    }
   ],
   "source": [
    "# mengaplikasikan decorator function cara 1 ke function yang belum ada decorationnya\n",
    "decorated_function = delay_decorator(say_greeting)\n",
    "decorated_function()"
   ]
  },
  {
   "cell_type": "code",
   "execution_count": 10,
   "id": "1d8a5d2b",
   "metadata": {},
   "outputs": [
    {
     "name": "stdout",
     "output_type": "stream",
     "text": [
      "Hello\n",
      "Hello\n"
     ]
    }
   ],
   "source": [
    "# tanpa aplikasi dari decoration function\n",
    "say_hello()"
   ]
  },
  {
   "cell_type": "markdown",
   "id": "d4c6b728",
   "metadata": {},
   "source": [
    "# Challenge"
   ]
  },
  {
   "cell_type": "code",
   "execution_count": 8,
   "id": "615f8a15",
   "metadata": {},
   "outputs": [
    {
     "name": "stdout",
     "output_type": "stream",
     "text": [
      "1752742702.336767\n",
      "fast_function run speed:\n",
      "0.03551197052001953\n",
      "slow_function run speed:\n",
      "0.3600428104400635\n"
     ]
    }
   ],
   "source": [
    "import time\n",
    "current_time = time.time()\n",
    "print(current_time) # seconds since Jan 1st, 1970 \n",
    "\n",
    "# Write your code below 👇\n",
    "\n",
    "def speed_calc_decorator(function):\n",
    "    def wrapper_function():\n",
    "        print(f\"{function.__name__} run speed:\")\n",
    "        #current_time = time.time()\n",
    "        function()\n",
    "        after_run_currTime = time.time()\n",
    "        running_duration = after_run_currTime - current_time\n",
    "        print(running_duration)\n",
    "    return wrapper_function\n",
    "\n",
    "def fast_function():\n",
    "  for i in range(1000000):\n",
    "    i * i\n",
    "        \n",
    "\n",
    "def slow_function():\n",
    "  for i in range(10000000):\n",
    "    i * i\n",
    "    \n",
    "decorated_fast = speed_calc_decorator(fast_function)\n",
    "(decorated_fast())\n",
    "decorated_slow = speed_calc_decorator(slow_function)\n",
    "(decorated_slow())"
   ]
  },
  {
   "cell_type": "code",
   "execution_count": 9,
   "id": "ad65f90f",
   "metadata": {},
   "outputs": [],
   "source": [
    "\n",
    "# When you call fast_function(), the wrapper inside the decorator runs.\n",
    "# It prints the speed, but then returns None.\n",
    "# The fix is to just call the functions directly, as they already print what you need.\n",
    "fast_function()\n",
    "slow_function()\n",
    "\n"
   ]
  }
 ],
 "metadata": {
  "kernelspec": {
   "display_name": "python_webDev",
   "language": "python",
   "name": "python3"
  },
  "language_info": {
   "codemirror_mode": {
    "name": "ipython",
    "version": 3
   },
   "file_extension": ".py",
   "mimetype": "text/x-python",
   "name": "python",
   "nbconvert_exporter": "python",
   "pygments_lexer": "ipython3",
   "version": "3.12.7"
  }
 },
 "nbformat": 4,
 "nbformat_minor": 5
}
