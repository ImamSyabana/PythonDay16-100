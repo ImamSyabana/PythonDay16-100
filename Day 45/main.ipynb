{
 "cells": [
  {
   "cell_type": "code",
   "execution_count": 2,
   "id": "ef0ff6d1",
   "metadata": {},
   "outputs": [],
   "source": [
    "import requests\n",
    "\n",
    "response = requests.get(\"https://appbrewery.github.io/news.ycombinator.com/\")\n",
    "\n",
    "#print(response.text)"
   ]
  },
  {
   "cell_type": "code",
   "execution_count": 3,
   "id": "f77fe817",
   "metadata": {},
   "outputs": [],
   "source": [
    "from bs4 import BeautifulSoup\n",
    "\n",
    "yc_web_page = response.text\n",
    "\n",
    "soup = BeautifulSoup(yc_web_page, \"html.parser\")"
   ]
  },
  {
   "cell_type": "code",
   "execution_count": 4,
   "id": "1a18693e",
   "metadata": {},
   "outputs": [
    {
     "name": "stdout",
     "output_type": "stream",
     "text": [
      "<title>Hacker News</title>\n"
     ]
    }
   ],
   "source": [
    "# mencari bagian title\n",
    "\n",
    "print(soup.title)"
   ]
  },
  {
   "cell_type": "code",
   "execution_count": 11,
   "id": "5d428098",
   "metadata": {},
   "outputs": [],
   "source": [
    "titleline = soup.find_all(name = \"a\", class_ = \"storylink\")\n",
    "\n",
    "article_texts = []\n",
    "article_links = []\n",
    "for tag in titleline:\n",
    "    article_texts.append(tag.getText())\n",
    "    article_links.append(tag.get(\"href\"))"
   ]
  },
  {
   "cell_type": "code",
   "execution_count": 13,
   "id": "89b451c4",
   "metadata": {},
   "outputs": [
    {
     "name": "stdout",
     "output_type": "stream",
     "text": [
      "['Joan Feynman 1927-2020', 'Court dismisses Genius lawsuit over lyrics-scraping by Google', \"Facebook's new policy bans blackface and some Jewish stereotypes\", 'Parallel Seam Carving', \"Amazon's business model meets Sweden's labor unions\", \"3D Printing Integrated Circuits: What's Possible Now and in the Future?\", 'Ask HN: How Belarus can keep connected despite internet blackout?', 'Systems Monitoring with Prometheus and Grafana', 'A Keyboard with Blank Keycaps Made Me and Expert Typist', 'JuliaDB', 'Predictions as a Substitute for Reviews', \"Let's Build a 28-Core Raspberry Pi Cluster\", 'Pumas AI: A platform for pharmaceutical modeling and simulation', 'Mitochondria may hold keys to anxiety and mental health', 'NetSurf, a multi-platform web browser', 'Launch HN: Xkit (YC S18) - OAuth infrastructure as a service', 'A broken cable smashed a hole 100 feet wide in the Arecibo Observatory', 'The Sail ISA specification language', 'Single Page Applications in Rust', 'Deplacy: CUI-Based Tree Visualizer for Universal Dependencies', 'Show HN: Radius – A Meetup.com alternative', 'Brain circuit scores identify clinically distinct biotypes in depression /anxiety', 'Astronomers see a black hole awaken in real time', 'Safe Superintelligence Inc.\\n                    ', \"How airplanes counteract St. Elmo's Fire during thunderstorms\", 'Datadog releases Incident Management, Profiler, Error Tracking, and more', 'How to stop procrastinating by using the Fogg Behaviour Model', 'Mozilla lays off 250 employees while it refocuses on commercial products', 'ZX Spectrum Next - Issue 2', 'A network of 17th-century female spies (2019)']\n",
      "['https://www.aps.org/archives/publications/apsnews/202008/feynman.cfm', 'https://techcrunch.com/2020/08/11/court-dismisses-genius-lawsuit-over-lyrics-scraping-by-google/', 'https://doi.org/10.1016/j.jasrep.2024.104636', 'https://v2thegreat.com/2024/06/19/lessons-learned-from-scaling-to-multi-terabyte-datasets/', 'https://hakaimagazine.com/videos-visuals/rice-farming-gets-an-ai-upgrade/', 'https://ocw.mit.edu/courses/18-098-street-fighting-mathematics-january-iap-2008/', 'https://tech.marksblogg.com/yolo-umbra-sar-satellites-ship-detection.html', 'https://twitter.com/lemire/status/1803598132334436415', 'https://futureforum.com/2022/07/15/personal-user-manual/', 'http://www.chrisfenton.com/1-25-scale-cray-c90-wristwatch/', 'https://www.carabinercollection.com/', 'https://github.com/home-sweet-gnome/dash-to-panel', 'https://scottaaronson.blog/?p=710', 'https://stackdiary.com/eu-council-has-withdrawn-the-vote-on-chat-control/', 'https://osrd.fr/en/', 'https://english.elpais.com/climate/2024-06-13/the-30-meter-pass-in-the-pyrenees-through-which-millions-of-insects-migrate.html', 'https://easyos.org/', 'https://www.npr.org/2024/06/10/1247296780/screen-apnea-why-screens-cause-shallow-breathing', 'https://hypermedia.systems/', 'https://github.com/MrKai77/Loop', 'https://www.radius.to', 'https://www.nature.com/articles/s41591-024-03057-9', 'https://www.eso.org/public/germany/news/eso2409/', 'https://ssi.inc', 'https://www.technologyreview.com/2024/06/19/1093446/pneumatic-tubes-hospitals/', 'https://salvagedcircuitry.com/2000a-nand-recovery.html', 'https://news.mit.edu/2024/computer-science-professor-arvind-dies-0618', 'https://blog.mozilla.org/en/mozilla/changing-world-changing-mozilla/', 'https://spectrum.ieee.org/vannevar-bush', 'https://www.ycombinator.com/companies/zep-ai/jobs/J5TD9KW-backend-engineer']\n"
     ]
    }
   ],
   "source": [
    "print(article_texts)\n",
    "print(article_links)"
   ]
  },
  {
   "cell_type": "code",
   "execution_count": 16,
   "id": "9da463d2",
   "metadata": {},
   "outputs": [
    {
     "name": "stdout",
     "output_type": "stream",
     "text": [
      "[38, 205, 165, 19, 57, 40, 58, 138, 29, 189, 46, 108, 103, 201, 188, 110, 46, 25, 752, 3, 242, 161, 230, 1051, 30, 156, 585, 1312, 24, 60]\n"
     ]
    }
   ],
   "source": [
    "titleupvote = soup.find_all(name = \"span\", class_ = \"score\")\n",
    "\n",
    "article_upvotes = [int(score.getText().split()[0]) for score in soup.find_all(name = \"span\", class_ = \"score\")]\n",
    "print(article_upvotes)"
   ]
  },
  {
   "cell_type": "code",
   "execution_count": 19,
   "id": "84c50ab3",
   "metadata": {},
   "outputs": [
    {
     "name": "stdout",
     "output_type": "stream",
     "text": [
      "Mozilla lays off 250 employees while it refocuses on commercial products\n",
      "https://blog.mozilla.org/en/mozilla/changing-world-changing-mozilla/\n",
      "27\n"
     ]
    }
   ],
   "source": [
    "highestScore_idx = article_upvotes.index(max(article_upvotes))\n",
    "highestVote_text = article_texts[highestScore_idx]\n",
    "highestVote_link = article_links[highestScore_idx]\n",
    "\n",
    "print(highestVote_text)\n",
    "print(highestVote_link)\n",
    "print(highestScore_idx)"
   ]
  },
  {
   "cell_type": "code",
   "execution_count": null,
   "id": "075e7990",
   "metadata": {},
   "outputs": [],
   "source": []
  },
  {
   "cell_type": "code",
   "execution_count": null,
   "id": "2a1578d8",
   "metadata": {},
   "outputs": [],
   "source": []
  }
 ],
 "metadata": {
  "kernelspec": {
   "display_name": "base",
   "language": "python",
   "name": "python3"
  },
  "language_info": {
   "codemirror_mode": {
    "name": "ipython",
    "version": 3
   },
   "file_extension": ".py",
   "mimetype": "text/x-python",
   "name": "python",
   "nbconvert_exporter": "python",
   "pygments_lexer": "ipython3",
   "version": "3.12.7"
  }
 },
 "nbformat": 4,
 "nbformat_minor": 5
}
