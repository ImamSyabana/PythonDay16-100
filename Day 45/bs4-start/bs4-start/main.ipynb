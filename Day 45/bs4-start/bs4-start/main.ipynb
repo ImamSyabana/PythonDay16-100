{
 "cells": [
  {
   "cell_type": "code",
   "execution_count": 1,
   "id": "d165677a",
   "metadata": {},
   "outputs": [],
   "source": [
    "from bs4 import BeautifulSoup\n",
    "\n",
    "with open(\"D:/_Coolyeah/Udemy/100Days Python/Day 45/bs4-start/bs4-start/website.html\") as file:\n",
    "    contents = file.read()"
   ]
  },
  {
   "cell_type": "code",
   "execution_count": 2,
   "id": "9b030abf",
   "metadata": {},
   "outputs": [
    {
     "name": "stdout",
     "output_type": "stream",
     "text": [
      "<title>Document</title>\n"
     ]
    }
   ],
   "source": [
    "soup = BeautifulSoup(contents, 'html.parser')\n",
    "print(soup.title)"
   ]
  },
  {
   "cell_type": "code",
   "execution_count": 3,
   "id": "e1ed8ff8",
   "metadata": {},
   "outputs": [
    {
     "name": "stdout",
     "output_type": "stream",
     "text": [
      "title\n"
     ]
    }
   ],
   "source": [
    "# mengeluarkan nama dari tagnya\n",
    "print(soup.title.name)"
   ]
  },
  {
   "cell_type": "code",
   "execution_count": 4,
   "id": "344b9501",
   "metadata": {},
   "outputs": [
    {
     "name": "stdout",
     "output_type": "stream",
     "text": [
      "Document\n"
     ]
    }
   ],
   "source": [
    "#mengeluarkan string di dalam tag title\n",
    "print(soup.title.string)"
   ]
  },
  {
   "cell_type": "code",
   "execution_count": 5,
   "id": "daae327d",
   "metadata": {},
   "outputs": [
    {
     "name": "stdout",
     "output_type": "stream",
     "text": [
      "<!DOCTYPE html>\n",
      "<html lang=\"en\">\n",
      " <head>\n",
      "  <meta charset=\"utf-8\"/>\n",
      "  <meta content=\"width=device-width, initial-scale=1.0\" name=\"viewport\"/>\n",
      "  <title>\n",
      "   Document\n",
      "  </title>\n",
      " </head>\n",
      " <body>\n",
      "  <h1 id=\"bday\">\n",
      "   It's My Birthday!\n",
      "  </h1>\n",
      "  <h1>\n",
      "   Ini heading biasa\n",
      "  </h1>\n",
      "  <h1 class=\"pro\">\n",
      "   lorem ipsum gua pro programmer\n",
      "  </h1>\n",
      "  <h2>\n",
      "   On the 12th May\n",
      "  </h2>\n",
      "  <img ,=\"\" alt=\"birthday cake\" src=\"https://raw.githubusercontent.com/appbrewery/webdev/main/birthday-cake3.4.jpeg\"/>\n",
      "  <h3>\n",
      "   What to bring\n",
      "  </h3>\n",
      "  <ul>\n",
      "   <li>\n",
      "    Baloons (I love baloons)\n",
      "   </li>\n",
      "   <li>\n",
      "    Cake (I'm really good at eating)\n",
      "   </li>\n",
      "   <li>\n",
      "    An appetite (There will be lots of food)\n",
      "   </li>\n",
      "  </ul>\n",
      "  <h3>\n",
      "   This is where you need to go:\n",
      "  </h3>\n",
      "  <ol start=\"5\">\n",
      "   <li class=\"fav_web\">\n",
      "    <a href=\"https://www.producthunt.com/\">\n",
      "     Product Hunt\n",
      "    </a>\n",
      "   </li>\n",
      "   <li class=\"fav_web\">\n",
      "    <a \"=\"\" \"https:=\"\" href=\"\" smashthewalls.com=\"\">\n",
      "     Smash the walls\n",
      "    </a>\n",
      "   </li>\n",
      "   <li class=\"fav_web\">\n",
      "    <p>\n",
      "     <a href=\"https://www.nytimes.com/games/wordle/index.html\" id=\"wordle\">\n",
      "      Wordle\n",
      "     </a>\n",
      "    </p>\n",
      "   </li>\n",
      "   <li class=\"fav_web\">\n",
      "    <a href=\"https://hackertyper.net/\">\n",
      "     Hacker Tyer\n",
      "    </a>\n",
      "   </li>\n",
      "   <li class=\"fav_web\">\n",
      "    <a href=\"https://stellarium.org/\">\n",
      "     Stellarium\n",
      "    </a>\n",
      "   </li>\n",
      "  </ol>\n",
      " </body>\n",
      "</html>\n",
      "\n"
     ]
    }
   ],
   "source": [
    "# mengeluarkan semua httml\n",
    "print(soup.prettify())"
   ]
  },
  {
   "cell_type": "code",
   "execution_count": 6,
   "id": "521742a4",
   "metadata": {},
   "outputs": [
    {
     "name": "stdout",
     "output_type": "stream",
     "text": [
      "<a href=\"https://www.producthunt.com/\">Product Hunt</a>\n"
     ]
    }
   ],
   "source": [
    "#mengeluarkkan tag anchor pertama dari html\n",
    "print(soup.a)"
   ]
  },
  {
   "cell_type": "code",
   "execution_count": 7,
   "id": "6c0cc8c0",
   "metadata": {},
   "outputs": [],
   "source": [
    "# # kalo mau mengeluarkan semua elemen dengan anchor tag tertentu ya\n",
    "# # pake .find_all()"
   ]
  },
  {
   "cell_type": "code",
   "execution_count": 8,
   "id": "24d22900",
   "metadata": {},
   "outputs": [
    {
     "name": "stdout",
     "output_type": "stream",
     "text": [
      "[<a href=\"https://www.producthunt.com/\">Product Hunt</a>, <a \"=\"\" \"https:=\"\" href=\"\" smashthewalls.com=\"\">Smash the walls</a>, <a href=\"https://www.nytimes.com/games/wordle/index.html\" id=\"wordle\">Wordle</a>, <a href=\"https://hackertyper.net/\">Hacker Tyer</a>, <a href=\"https://stellarium.org/\">Stellarium</a>]\n",
      "\n",
      "\n"
     ]
    }
   ],
   "source": [
    "all_anchor_tags = soup.find_all(name = \"a\")\n",
    "print(all_anchor_tags) # mmenghasilkan list yang berisi kumpulan tags anchor type\n",
    "print(\"\\n\")"
   ]
  },
  {
   "cell_type": "code",
   "execution_count": 9,
   "id": "60cee237",
   "metadata": {},
   "outputs": [
    {
     "name": "stdout",
     "output_type": "stream",
     "text": [
      "Product Hunt\n",
      "Smash the walls\n",
      "Wordle\n",
      "Hacker Tyer\n",
      "Stellarium\n"
     ]
    }
   ],
   "source": [
    "for tag in all_anchor_tags:\n",
    "    print(tag.getText()) # mengeluarkan semua yang ada di dalem anchor tags <a>\n",
    "    "
   ]
  },
  {
   "cell_type": "code",
   "execution_count": 10,
   "id": "ce52c07c",
   "metadata": {},
   "outputs": [
    {
     "name": "stdout",
     "output_type": "stream",
     "text": [
      "https://www.producthunt.com/\n",
      "\n",
      "https://www.nytimes.com/games/wordle/index.html\n",
      "https://hackertyper.net/\n",
      "https://stellarium.org/\n"
     ]
    }
   ],
   "source": [
    "for tag in all_anchor_tags:\n",
    "    print(tag.get(\"href\")) # mengeluarkan semua value yang ditampung di dalam atribut href\n",
    "    \n",
    "    "
   ]
  },
  {
   "cell_type": "code",
   "execution_count": 11,
   "id": "08ed64e8",
   "metadata": {},
   "outputs": [
    {
     "name": "stdout",
     "output_type": "stream",
     "text": [
      "<h1 id=\"bday\">It's My Birthday!</h1>\n"
     ]
    }
   ],
   "source": [
    "heading = soup.find(name= \"h1\", id = \"bday\") # mencari semua yang tags h1 dan memiliki id bday\n",
    "print(heading)"
   ]
  },
  {
   "cell_type": "code",
   "execution_count": 12,
   "id": "43cdcc5d",
   "metadata": {},
   "outputs": [
    {
     "name": "stdout",
     "output_type": "stream",
     "text": [
      "<h1 class=\"pro\">lorem ipsum gua pro programmer</h1>\n"
     ]
    }
   ],
   "source": [
    "section_heading = soup.find(name = \"h1\", class_ = \"pro\") # mencari semua yang tags h1 dan memiliki class pro\n",
    "print(section_heading)"
   ]
  },
  {
   "cell_type": "code",
   "execution_count": 13,
   "id": "a35c5e18",
   "metadata": {},
   "outputs": [
    {
     "name": "stdout",
     "output_type": "stream",
     "text": [
      "<a href=\"https://www.nytimes.com/games/wordle/index.html\" id=\"wordle\">Wordle</a>\n"
     ]
    }
   ],
   "source": [
    "wordle_url = soup.select_one(selector = \"p a\")\n",
    "print(wordle_url)"
   ]
  },
  {
   "cell_type": "code",
   "execution_count": 14,
   "id": "c0c21acd",
   "metadata": {},
   "outputs": [
    {
     "name": "stdout",
     "output_type": "stream",
     "text": [
      "<a href=\"https://www.nytimes.com/games/wordle/index.html\" id=\"wordle\">Wordle</a>\n"
     ]
    }
   ],
   "source": [
    "wordle_url = soup.select_one(selector = \"#wordle\")\n",
    "print(wordle_url)"
   ]
  },
  {
   "cell_type": "code",
   "execution_count": null,
   "id": "90208be3",
   "metadata": {},
   "outputs": [
    {
     "name": "stdout",
     "output_type": "stream",
     "text": [
      "[<li class=\"fav_web\">\n",
      "<a href=\"https://www.producthunt.com/\">Product Hunt</a>\n",
      "</li>, <li class=\"fav_web\">\n",
      "<a \"=\"\" \"https:=\"\" href=\"\" smashthewalls.com=\"\">Smash the walls</a>\n",
      "</li>, <li class=\"fav_web\">\n",
      "<p><a href=\"https://www.nytimes.com/games/wordle/index.html\" id=\"wordle\">Wordle</a></p>\n",
      "</li>, <li class=\"fav_web\">\n",
      "<a href=\"https://hackertyper.net/\">Hacker Tyer</a>\n",
      "</li>, <li class=\"fav_web\">\n",
      "<a href=\"https://stellarium.org/\">Stellarium</a>\n",
      "</li>]\n"
     ]
    }
   ],
   "source": [
    "fav_site = soup.select(selector= \".fav_web\")\n",
    "print(fav_site) "
   ]
  }
 ],
 "metadata": {
  "kernelspec": {
   "display_name": "base",
   "language": "python",
   "name": "python3"
  },
  "language_info": {
   "codemirror_mode": {
    "name": "ipython",
    "version": 3
   },
   "file_extension": ".py",
   "mimetype": "text/x-python",
   "name": "python",
   "nbconvert_exporter": "python",
   "pygments_lexer": "ipython3",
   "version": "3.12.7"
  }
 },
 "nbformat": 4,
 "nbformat_minor": 5
}
