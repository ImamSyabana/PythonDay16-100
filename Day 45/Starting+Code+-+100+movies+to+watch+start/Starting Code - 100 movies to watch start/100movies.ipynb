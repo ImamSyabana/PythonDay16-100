{
 "cells": [
  {
   "cell_type": "code",
   "execution_count": 1,
   "id": "a78f5298",
   "metadata": {},
   "outputs": [],
   "source": [
    "import requests\n",
    "from bs4 import BeautifulSoup\n",
    "\n",
    "URL = \"https://web.archive.org/web/20200518073855/https://www.empireonline.com/movies/features/best-movies-2/\"\n",
    "response = requests.get(URL)\n"
   ]
  },
  {
   "cell_type": "code",
   "execution_count": 2,
   "id": "c45e2a37",
   "metadata": {},
   "outputs": [],
   "source": [
    "# Write your code below this line 👇\n",
    "yc_web_page = response.text #mengeluarkan html beserta semua tag2 nya\n",
    "\n",
    "soup = BeautifulSoup(yc_web_page, \"html.parser\") # membuat object untuk mengakses tag2 nya menggunakan parser beautiful soupz"
   ]
  },
  {
   "cell_type": "code",
   "execution_count": 59,
   "id": "436690c1",
   "metadata": {},
   "outputs": [],
   "source": [
    "title = soup.find_all(name = \"h3\", class_ = \"title\")\n",
    "\n",
    "order = []\n",
    "movie_name = []\n",
    "\n"
   ]
  },
  {
   "cell_type": "code",
   "execution_count": 54,
   "id": "f355e6bb",
   "metadata": {},
   "outputs": [
    {
     "name": "stdout",
     "output_type": "stream",
     "text": [
      "[1, 2, 3, 4, 5, 6, 7, 8, 9, 10, 11, 12, 13, 14, 15, 16, 17, 18, 19, 20, 21, 22, 23, 24, 25, 26, 27, 28, 29, 30, 31, 32, 33, 34, 35, 36, 37, 38, 39, 40, 41, 42, 43, 44, 45, 46, 47, 48, 49, 50, 51, 52, 53, 54, 55, 56, 57, 58, 59, 60, 61, 62, 63, 64, 65, 66, 67, 68, 69, 70, 71, 72, 73, 74, 75, 76, 77, 78, 79, 80, 81, 82, 83, 84, 85, 86, 87, 88, 89, 90, 91, 92, 93, 94, 95, 96, 97, 98, 99, 100]\n",
      "['The Godfather', 'The Empire Strikes Back', 'The Dark Knight', 'The Shawshank Redemption', 'Pulp Fiction', 'Goodfellas', 'Raiders Of The Lost Ark', 'Jaws', 'Star Wars', 'The Lord Of The Rings: The Fellowship Of The Ring', 'Back To The Future', 'The Godfather Part II', 'Blade Runner', 'Alien', 'Aliens', 'The Lord Of The Rings: The Return Of The King', 'Fight Club', 'Inception', 'Jurassic Park', 'Die Hard', '2001: A Space Odyssey', 'Apocalypse Now', 'The Lord Of The Rings: The Two Towers', 'The Matrix', 'Terminator 2: Judgment Day', 'Heat', 'The Good, The Bad And The Ugly', 'Casablanca', 'The Big Lebowski', 'Seven', 'Taxi Driver', 'The Usual Suspects', \"Schindler's List\", 'Guardians Of The Galaxy', 'The Shining', 'The Departed', 'The Thing', 'Mad Max: Fury Road', 'Saving Private Ryan', '12 Angry Men', 'Eternal Sunshine Of The Spotless Mind', 'There Will Be Blood', \"One Flew Over The Cuckoo's Nest\", 'Gladiator', 'Drive', 'Citizen Kane', 'Interstellar', 'The Silence Of The Lambs', 'Trainspotting', 'Lawrence Of Arabia', \"It's A Wonderful Life\", 'Once Upon A Time In The West', 'Psycho', 'Vertigo', \"Pan's Labyrinth\", 'Reservoir Dogs', 'Whiplash', 'Inglourious Basterds', 'E.T. â\\x80\\x93 The Extra Terrestrial', 'American Beauty', 'Forrest Gump', 'La La Land', 'Donnie Darko', 'L.A. Confidential', 'Avengers Assemble', 'Return Of The Jedi', 'Memento', 'Ghostbusters', \"Singin' In The Rain\", 'The Lion King', 'Hot Fuzz', 'Rear Window', 'Seven Samurai', 'Mulholland Dr.', 'Fargo', 'A Clockwork Orange', 'Toy Story', 'Oldboy', 'Captain America: Civil War', 'Spirited Away', 'The Social Network', 'Some Like It Hot', 'True Romance', 'Rocky', 'LÃ©on', 'Indiana Jones And The Last Crusade', 'Predator', 'The Exorcist', 'Shaun Of The Dead', 'No Country For Old Men', 'The Prestige', 'The Terminator', 'The Princess Bride', 'Lost In Translation', 'Arrival', 'Good Will Hunting', 'Titanic', 'Amelie', 'Raging Bull', 'Stand By Me']\n"
     ]
    }
   ],
   "source": [
    "title = soup.find_all(name = \"h3\", class_ = \"title\")\n",
    "order = soup.find_all(name = \"div\", class_  = \"static-image__primary-total\")\n",
    "\n",
    "movie_name = []\n",
    "rank = []\n",
    "\n",
    "for text in title:\n",
    "    if len(text.getText().split(\") \")) != int(2):\n",
    "        temp = text.getText().split(\": \")\n",
    "    else:\n",
    "        temp = (text.getText().split(\") \"))\n",
    "    #print(temp)\n",
    "    \n",
    "    #rank.append(int(temp[0]))\n",
    "    movie_name.append(temp[1])\n",
    "\n",
    "for peringkat in order:\n",
    "    #print( peringkat.getText().split(\" of \"))\n",
    "    temp = peringkat.getText().split(\" of \")\n",
    "    rank.append(int(temp[0]))\n",
    "    #print(temp[0])\n",
    "    \n",
    "    \n",
    "#order.sort(reverse=False)\n",
    "#movie_name.sort(reverse=False)\n",
    "\n",
    "#movie_name = sorted(movie_name, reverse=True)\n",
    "print((rank))\n",
    "\n",
    "movie_name = movie_name[::-1]\n",
    "print(movie_name)"
   ]
  },
  {
   "cell_type": "code",
   "execution_count": null,
   "id": "58ed63de",
   "metadata": {},
   "outputs": [],
   "source": [
    "# menulis ranking film ke dalam txt file\n",
    "\n",
    "with open(\"100moviesRank.txt\", \"w\") as file:\n",
    "    for x in range(len(movie_name)):\n",
    "        file.write(f\"{rank[x]}. {movie_name[x]}\\n\")\n",
    "    "
   ]
  },
  {
   "cell_type": "code",
   "execution_count": null,
   "id": "055cd8e0",
   "metadata": {},
   "outputs": [],
   "source": []
  }
 ],
 "metadata": {
  "kernelspec": {
   "display_name": "base",
   "language": "python",
   "name": "python3"
  },
  "language_info": {
   "codemirror_mode": {
    "name": "ipython",
    "version": 3
   },
   "file_extension": ".py",
   "mimetype": "text/x-python",
   "name": "python",
   "nbconvert_exporter": "python",
   "pygments_lexer": "ipython3",
   "version": "3.12.7"
  }
 },
 "nbformat": 4,
 "nbformat_minor": 5
}
