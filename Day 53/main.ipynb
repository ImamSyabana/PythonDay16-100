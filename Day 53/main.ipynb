{
 "cells": [
  {
   "cell_type": "markdown",
   "id": "badf738b",
   "metadata": {},
   "source": [
    "\n",
    "https://docs.google.com/forms/d/e/1FAIpQLScCMXaZJmx86dNjkrDZW5cwi9juKdV5hvuQmCfUi9z4-kp1wQ/viewform?usp=dialog"
   ]
  },
  {
   "cell_type": "code",
   "execution_count": null,
   "id": "9142617b",
   "metadata": {},
   "outputs": [],
   "source": [
    "from bs4 import BeautifulSoup\n",
    "import requests\n",
    "from datetime import datetime\n",
    "import string\n",
    "import smtplib\n",
    "import time\n",
    "\n",
    "import os\n",
    "from dotenv import find_dotenv, load_dotenv\n"
   ]
  },
  {
   "cell_type": "code",
   "execution_count": null,
   "id": "594a754d",
   "metadata": {},
   "outputs": [],
   "source": [
    "URL = \"https://appbrewery.github.io/Zillow-Clone/\"\n",
    "\n",
    "headers = {\n",
    "    \"Accept-Language\": \"en-GB,en;q=0.9,ja-JP;q=0.8,ja;q=0.7,en-US;q=0.6\",\n",
    "    \"user-agent\" : \"Mozilla/5.0 (Windows NT 10.0; Win64; x64) AppleWebKit/537.36 (KHTML, like Gecko) Chrome/138.0.0.0 Safari/537.36\"\n",
    "}\n",
    "\n",
    "response = requests.get(URL, headers=headers)"
   ]
  },
  {
   "cell_type": "code",
   "execution_count": null,
   "id": "0c631da9",
   "metadata": {},
   "outputs": [],
   "source": [
    "raw_web_page = response.text #mengeluarkan html beserta semua tag2 nya\n",
    "raw_web_page"
   ]
  },
  {
   "cell_type": "code",
   "execution_count": null,
   "id": "591eda1a",
   "metadata": {},
   "outputs": [],
   "source": [
    "soup = BeautifulSoup(raw_web_page, \"html.parser\") #membuat object untuk parsing html"
   ]
  },
  {
   "cell_type": "code",
   "execution_count": null,
   "id": "b8e7ba1a",
   "metadata": {},
   "outputs": [],
   "source": [
    "# mencari list alamat apartment\n",
    "apartment_adress = soup.find_all(name=\"address\")\n",
    "\n",
    "address_list = [(adress.getText()).strip() for adress in apartment_adress]\n",
    "address_list"
   ]
  },
  {
   "cell_type": "code",
   "execution_count": null,
   "id": "527d1207",
   "metadata": {},
   "outputs": [],
   "source": [
    "# mencari price list apartment\n",
    "\n",
    "apartment_price = soup.find_all(name = \"span\", class_=\"PropertyCardWrapper__StyledPriceLine\")\n",
    "price_list = [(price.getText()).strip() for price in apartment_price]\n",
    "print(price_list)\n",
    "\n",
    "import re\n",
    "# Use a list comprehension and a regular expression to find the pattern\n",
    "price_list = [re.search(r'\\$[\\d,]+', s).group(0) for s in price_list]\n",
    "\n",
    "print(price_list)"
   ]
  },
  {
   "cell_type": "code",
   "execution_count": null,
   "id": "2c0097a5",
   "metadata": {},
   "outputs": [],
   "source": [
    "# mengambil link masing masing iklan apartment\n",
    "apartment_links = soup.find_all(name = \"a\", class_ = \"property-card-link\")\n",
    "links_list = [link.get(\"href\") for link in apartment_links]\n",
    "print(links_list)"
   ]
  },
  {
   "cell_type": "code",
   "execution_count": null,
   "id": "2c9734ef",
   "metadata": {},
   "outputs": [],
   "source": [
    "print(address_list)\n",
    "print(price_list)\n",
    "print(links_list)"
   ]
  },
  {
   "cell_type": "markdown",
   "id": "b3ba75f8",
   "metadata": {},
   "source": [
    "# Membuat selenium buat otomatic input data"
   ]
  },
  {
   "cell_type": "code",
   "execution_count": null,
   "id": "a788ea92",
   "metadata": {},
   "outputs": [],
   "source": [
    "from selenium import webdriver\n",
    "from selenium.webdriver.common.by import By\n",
    "from datetime import datetime\n",
    "from selenium.webdriver.common.keys import Keys\n"
   ]
  },
  {
   "cell_type": "code",
   "execution_count": null,
   "id": "43e8388b",
   "metadata": {},
   "outputs": [],
   "source": [
    "# keep Chrome browser open after program finishes\n",
    "chrome_options = webdriver.ChromeOptions()\n",
    "chrome_options.add_experimental_option(\"detach\", True)\n",
    "\n",
    "driver = webdriver.Chrome(options=chrome_options)\n",
    "driver.get(\"https://docs.google.com/forms/d/e/1FAIpQLScCMXaZJmx86dNjkrDZW5cwi9juKdV5hvuQmCfUi9z4-kp1wQ/viewform\")\n",
    "\n",
    "# 1. ngisi kolom adress yang mau diisi\n",
    "adress_col = driver.find_element(By.XPATH, value='//*[@id=\"mG61Hd\"]/div[2]/div/div[2]/div[1]/div/div/div[2]/div/div[1]/div/div[1]/input')\n",
    "adress_col.click()\n",
    "adress_col.send_keys(\"dsadsadas\")\n",
    "time.sleep(5)\n",
    "#2. ngisi kolom price per month\n",
    "price_col = driver.find_element(By.XPATH, value='//*[@id=\"mG61Hd\"]/div[2]/div/div[2]/div[2]/div/div/div[2]/div/div[1]/div/div[1]/input')\n",
    "adress_col.click()\n",
    "adress_col.send_keys(\"dsadsadas\")"
   ]
  }
 ],
 "metadata": {
  "kernelspec": {
   "display_name": "base",
   "language": "python",
   "name": "python3"
  },
  "language_info": {
   "codemirror_mode": {
    "name": "ipython",
    "version": 3
   },
   "file_extension": ".py",
   "mimetype": "text/x-python",
   "name": "python",
   "nbconvert_exporter": "python",
   "pygments_lexer": "ipython3",
   "version": "3.12.7"
  }
 },
 "nbformat": 4,
 "nbformat_minor": 5
}
